{
 "cells": [
  {
   "cell_type": "markdown",
   "metadata": {},
   "source": [
    "### IMPORT PACKAGES\n",
    "\n"
   ]
  },
  {
   "cell_type": "code",
   "execution_count": 260,
   "metadata": {},
   "outputs": [],
   "source": [
    "import numpy as np\n",
    "import pandas as pd\n",
    "import seaborn as sns\n",
    "import matplotlib.pyplot as plt\n",
    "from matplotlib.colors import LinearSegmentedColormap\n",
    "import warnings\n",
    "from tabulate import tabulate\n",
    "warnings.filterwarnings('ignore')\n",
    "import re"
   ]
  },
  {
   "cell_type": "markdown",
   "metadata": {},
   "source": [
    "### LOAD DATA"
   ]
  },
  {
   "cell_type": "code",
   "execution_count": 123,
   "metadata": {},
   "outputs": [],
   "source": [
    "txn_data = pd.read_excel(\"./dataset/QVI_transaction_data.xlsx\")\n",
    "purch_behav_data = pd.read_csv(\"./dataset/QVI_purchase_behaviour.csv\")"
   ]
  },
  {
   "cell_type": "markdown",
   "metadata": {},
   "source": [
    "### EXAMINE DATASETS\n"
   ]
  },
  {
   "cell_type": "markdown",
   "metadata": {},
   "source": [
    "#### TRANSACTION DATA"
   ]
  },
  {
   "cell_type": "code",
   "execution_count": 124,
   "metadata": {},
   "outputs": [
    {
     "name": "stdout",
     "output_type": "stream",
     "text": [
      "<class 'pandas.core.frame.DataFrame'>\n",
      "RangeIndex: 264836 entries, 0 to 264835\n",
      "Data columns (total 8 columns):\n",
      " #   Column          Non-Null Count   Dtype  \n",
      "---  ------          --------------   -----  \n",
      " 0   DATE            264836 non-null  int64  \n",
      " 1   STORE_NBR       264836 non-null  int64  \n",
      " 2   LYLTY_CARD_NBR  264836 non-null  int64  \n",
      " 3   TXN_ID          264836 non-null  int64  \n",
      " 4   PROD_NBR        264836 non-null  int64  \n",
      " 5   PROD_NAME       264836 non-null  object \n",
      " 6   PROD_QTY        264836 non-null  int64  \n",
      " 7   TOT_SALES       264836 non-null  float64\n",
      "dtypes: float64(1), int64(6), object(1)\n",
      "memory usage: 16.2+ MB\n"
     ]
    }
   ],
   "source": [
    "#check data type\n",
    "txn_data.info()"
   ]
  },
  {
   "cell_type": "code",
   "execution_count": 125,
   "metadata": {},
   "outputs": [],
   "source": [
    "#date is in the wrong data type -  convert to date format -yyyy-mm-dd\n",
    "\n",
    "txn_data['DATE'] = pd.to_datetime(txn_data['DATE'], origin='1900-01-01',\n",
    "                                   unit='D')"
   ]
  },
  {
   "cell_type": "code",
   "execution_count": 126,
   "metadata": {},
   "outputs": [
    {
     "data": {
      "text/plain": [
       "0   2018-10-19\n",
       "1   2019-05-16\n",
       "2   2019-05-22\n",
       "3   2018-08-19\n",
       "4   2018-08-20\n",
       "Name: DATE, dtype: datetime64[ns]"
      ]
     },
     "execution_count": 126,
     "metadata": {},
     "output_type": "execute_result"
    }
   ],
   "source": [
    "txn_data['DATE'].head()"
   ]
  },
  {
   "cell_type": "code",
   "execution_count": 127,
   "metadata": {},
   "outputs": [
    {
     "name": "stdout",
     "output_type": "stream",
     "text": [
      "<class 'pandas.core.frame.DataFrame'>\n",
      "RangeIndex: 264836 entries, 0 to 264835\n",
      "Data columns (total 8 columns):\n",
      " #   Column          Non-Null Count   Dtype         \n",
      "---  ------          --------------   -----         \n",
      " 0   DATE            264836 non-null  datetime64[ns]\n",
      " 1   STORE_NBR       264836 non-null  int64         \n",
      " 2   LYLTY_CARD_NBR  264836 non-null  int64         \n",
      " 3   TXN_ID          264836 non-null  int64         \n",
      " 4   PROD_NBR        264836 non-null  int64         \n",
      " 5   PROD_NAME       264836 non-null  object        \n",
      " 6   PROD_QTY        264836 non-null  int64         \n",
      " 7   TOT_SALES       264836 non-null  float64       \n",
      "dtypes: datetime64[ns](1), float64(1), int64(5), object(1)\n",
      "memory usage: 16.2+ MB\n"
     ]
    }
   ],
   "source": [
    "#txn_data info after conversion\n",
    "\n",
    "txn_data.info()"
   ]
  },
  {
   "cell_type": "code",
   "execution_count": 128,
   "metadata": {},
   "outputs": [
    {
     "data": {
      "text/plain": [
       "DATE              0\n",
       "STORE_NBR         0\n",
       "LYLTY_CARD_NBR    0\n",
       "TXN_ID            0\n",
       "PROD_NBR          0\n",
       "PROD_NAME         0\n",
       "PROD_QTY          0\n",
       "TOT_SALES         0\n",
       "dtype: int64"
      ]
     },
     "execution_count": 128,
     "metadata": {},
     "output_type": "execute_result"
    }
   ],
   "source": [
    "#check for missing data\n",
    "txn_data.isnull().sum()"
   ]
  },
  {
   "cell_type": "code",
   "execution_count": 129,
   "metadata": {},
   "outputs": [
    {
     "data": {
      "text/plain": [
       "np.int64(1)"
      ]
     },
     "execution_count": 129,
     "metadata": {},
     "output_type": "execute_result"
    }
   ],
   "source": [
    "#check for duplicates\n",
    "txn_data.duplicated().sum()"
   ]
  },
  {
   "cell_type": "code",
   "execution_count": 130,
   "metadata": {},
   "outputs": [
    {
     "data": {
      "text/html": [
       "<div>\n",
       "<style scoped>\n",
       "    .dataframe tbody tr th:only-of-type {\n",
       "        vertical-align: middle;\n",
       "    }\n",
       "\n",
       "    .dataframe tbody tr th {\n",
       "        vertical-align: top;\n",
       "    }\n",
       "\n",
       "    .dataframe thead th {\n",
       "        text-align: right;\n",
       "    }\n",
       "</style>\n",
       "<table border=\"1\" class=\"dataframe\">\n",
       "  <thead>\n",
       "    <tr style=\"text-align: right;\">\n",
       "      <th></th>\n",
       "      <th>DATE</th>\n",
       "      <th>STORE_NBR</th>\n",
       "      <th>LYLTY_CARD_NBR</th>\n",
       "      <th>TXN_ID</th>\n",
       "      <th>PROD_NBR</th>\n",
       "      <th>PROD_NAME</th>\n",
       "      <th>PROD_QTY</th>\n",
       "      <th>TOT_SALES</th>\n",
       "    </tr>\n",
       "  </thead>\n",
       "  <tbody>\n",
       "    <tr>\n",
       "      <th>124845</th>\n",
       "      <td>2018-10-03</td>\n",
       "      <td>107</td>\n",
       "      <td>107024</td>\n",
       "      <td>108462</td>\n",
       "      <td>45</td>\n",
       "      <td>Smiths Thinly Cut   Roast Chicken 175g</td>\n",
       "      <td>2</td>\n",
       "      <td>6.0</td>\n",
       "    </tr>\n",
       "  </tbody>\n",
       "</table>\n",
       "</div>"
      ],
      "text/plain": [
       "             DATE  STORE_NBR  LYLTY_CARD_NBR  TXN_ID  PROD_NBR  \\\n",
       "124845 2018-10-03        107          107024  108462        45   \n",
       "\n",
       "                                     PROD_NAME  PROD_QTY  TOT_SALES  \n",
       "124845  Smiths Thinly Cut   Roast Chicken 175g         2        6.0  "
      ]
     },
     "execution_count": 130,
     "metadata": {},
     "output_type": "execute_result"
    }
   ],
   "source": [
    "#check duplicated data - \n",
    "txn_data[txn_data.duplicated()]"
   ]
  },
  {
   "cell_type": "code",
   "execution_count": 131,
   "metadata": {},
   "outputs": [
    {
     "data": {
      "text/plain": [
       "np.int64(0)"
      ]
     },
     "execution_count": 131,
     "metadata": {},
     "output_type": "execute_result"
    }
   ],
   "source": [
    "#remove duplicates\n",
    "txn_data=txn_data.drop_duplicates()\n",
    "\n",
    "txn_data.duplicated().sum()"
   ]
  },
  {
   "cell_type": "code",
   "execution_count": 132,
   "metadata": {},
   "outputs": [
    {
     "data": {
      "image/png": "[encoded data removed]",
      "text/plain": [
       "<Figure size 1500x500 with 2 Axes>"
      ]
     },
     "metadata": {},
     "output_type": "display_data"
    }
   ],
   "source": [
    "#check for outliers\n",
    "\n",
    "\n",
    "#Before checking outliers, the distribution of data must be understood\n",
    "\n",
    "#vizualize using charts\n",
    "sns.set_style(\"whitegrid\", {'axes.grid' : False})\n",
    "fig, axes = plt.subplots(1,2, figsize=(15,5))\n",
    "\n",
    "\n",
    "#define plots\n",
    "\n",
    "#subplot 1- prod_qty\n",
    "sns.histplot(data=np.log1p(txn_data['PROD_QTY']),ax=axes[0],kde=True)\n",
    "axes[0].set_title(\"DISTRIBUTION OF PRODUCT QUANTITY\",)\n",
    "\n",
    "#subplot 2- total_sales\n",
    "sns.histplot(data=np.log1p(txn_data['TOT_SALES']), ax=axes[1],kde=True)\n",
    "axes[1].set_title(\"DISTRIBUTION OF TOTAL SALES\")\n",
    "\n",
    "#layout\n",
    "plt.tight_layout()\n",
    "plt.show()"
   ]
  },
  {
   "cell_type": "code",
   "execution_count": 146,
   "metadata": {},
   "outputs": [
    {
     "name": "stdout",
     "output_type": "stream",
     "text": [
      "3.799999999999999\n"
     ]
    }
   ],
   "source": [
    "#calculate outliers using quantiles\n",
    "Q1 = txn_data['TOT_SALES'].quantile(0.25)\n",
    "Q3 = txn_data['TOT_SALES'].quantile(0.75)\n",
    "IQR = Q3 - Q1  # Interquartile range\n",
    "\n",
    "# Define lower and upper bounds for outliers\n",
    "lower_bound = Q1 - 1.5 * IQR\n",
    "upper_bound = Q3 + 1.5 * IQR\n",
    "\n",
    "print(IQR)"
   ]
  },
  {
   "cell_type": "code",
   "execution_count": 134,
   "metadata": {},
   "outputs": [
    {
     "data": {
      "image/png": "[encoded data removed]",
      "text/plain": [
       "<Figure size 640x480 with 1 Axes>"
      ]
     },
     "metadata": {},
     "output_type": "display_data"
    }
   ],
   "source": [
    "#outlier viz\n",
    "sns.boxplot(data=np.log1p(txn_data['TOT_SALES']))\n",
    "plt.show()"
   ]
  },
  {
   "cell_type": "markdown",
   "metadata": {},
   "source": [
    "### EXAMINE CUSTOMER DATA\n"
   ]
  },
  {
   "cell_type": "code",
   "execution_count": 135,
   "metadata": {},
   "outputs": [
    {
     "name": "stdout",
     "output_type": "stream",
     "text": [
      "<class 'pandas.core.frame.DataFrame'>\n",
      "RangeIndex: 72637 entries, 0 to 72636\n",
      "Data columns (total 3 columns):\n",
      " #   Column            Non-Null Count  Dtype \n",
      "---  ------            --------------  ----- \n",
      " 0   LYLTY_CARD_NBR    72637 non-null  int64 \n",
      " 1   LIFESTAGE         72637 non-null  object\n",
      " 2   PREMIUM_CUSTOMER  72637 non-null  object\n",
      "dtypes: int64(1), object(2)\n",
      "memory usage: 1.7+ MB\n"
     ]
    }
   ],
   "source": [
    "#info on customer dataset\n",
    "purch_behav_data.info()"
   ]
  },
  {
   "cell_type": "code",
   "execution_count": 136,
   "metadata": {},
   "outputs": [
    {
     "data": {
      "text/plain": [
       "LYLTY_CARD_NBR      0\n",
       "LIFESTAGE           0\n",
       "PREMIUM_CUSTOMER    0\n",
       "dtype: int64"
      ]
     },
     "execution_count": 136,
     "metadata": {},
     "output_type": "execute_result"
    }
   ],
   "source": [
    "#check for missing data\n",
    "purch_behav_data.isnull().sum()"
   ]
  },
  {
   "cell_type": "code",
   "execution_count": 137,
   "metadata": {},
   "outputs": [
    {
     "data": {
      "text/plain": [
       "np.int64(0)"
      ]
     },
     "execution_count": 137,
     "metadata": {},
     "output_type": "execute_result"
    }
   ],
   "source": [
    "#check for duplicates\n",
    "purch_behav_data.duplicated().sum()"
   ]
  },
  {
   "cell_type": "markdown",
   "metadata": {},
   "source": [
    "### MERGE DATA"
   ]
  },
  {
   "cell_type": "code",
   "execution_count": 138,
   "metadata": {},
   "outputs": [
    {
     "data": {
      "text/html": [
       "<div>\n",
       "<style scoped>\n",
       "    .dataframe tbody tr th:only-of-type {\n",
       "        vertical-align: middle;\n",
       "    }\n",
       "\n",
       "    .dataframe tbody tr th {\n",
       "        vertical-align: top;\n",
       "    }\n",
       "\n",
       "    .dataframe thead th {\n",
       "        text-align: right;\n",
       "    }\n",
       "</style>\n",
       "<table border=\"1\" class=\"dataframe\">\n",
       "  <thead>\n",
       "    <tr style=\"text-align: right;\">\n",
       "      <th></th>\n",
       "      <th>DATE</th>\n",
       "      <th>STORE_NBR</th>\n",
       "      <th>LYLTY_CARD_NBR</th>\n",
       "      <th>TXN_ID</th>\n",
       "      <th>PROD_NBR</th>\n",
       "      <th>PROD_NAME</th>\n",
       "      <th>PROD_QTY</th>\n",
       "      <th>TOT_SALES</th>\n",
       "      <th>LIFESTAGE</th>\n",
       "      <th>PREMIUM_CUSTOMER</th>\n",
       "    </tr>\n",
       "  </thead>\n",
       "  <tbody>\n",
       "    <tr>\n",
       "      <th>0</th>\n",
       "      <td>2018-10-19</td>\n",
       "      <td>1</td>\n",
       "      <td>1000</td>\n",
       "      <td>1</td>\n",
       "      <td>5</td>\n",
       "      <td>Natural Chip        Compny SeaSalt175g</td>\n",
       "      <td>2</td>\n",
       "      <td>6.0</td>\n",
       "      <td>YOUNG SINGLES/COUPLES</td>\n",
       "      <td>Premium</td>\n",
       "    </tr>\n",
       "    <tr>\n",
       "      <th>1</th>\n",
       "      <td>2018-09-18</td>\n",
       "      <td>1</td>\n",
       "      <td>1002</td>\n",
       "      <td>2</td>\n",
       "      <td>58</td>\n",
       "      <td>Red Rock Deli Chikn&amp;Garlic Aioli 150g</td>\n",
       "      <td>1</td>\n",
       "      <td>2.7</td>\n",
       "      <td>YOUNG SINGLES/COUPLES</td>\n",
       "      <td>Mainstream</td>\n",
       "    </tr>\n",
       "    <tr>\n",
       "      <th>2</th>\n",
       "      <td>2019-03-09</td>\n",
       "      <td>1</td>\n",
       "      <td>1003</td>\n",
       "      <td>3</td>\n",
       "      <td>52</td>\n",
       "      <td>Grain Waves Sour    Cream&amp;Chives 210G</td>\n",
       "      <td>1</td>\n",
       "      <td>3.6</td>\n",
       "      <td>YOUNG FAMILIES</td>\n",
       "      <td>Budget</td>\n",
       "    </tr>\n",
       "    <tr>\n",
       "      <th>3</th>\n",
       "      <td>2019-03-10</td>\n",
       "      <td>1</td>\n",
       "      <td>1003</td>\n",
       "      <td>4</td>\n",
       "      <td>106</td>\n",
       "      <td>Natural ChipCo      Hony Soy Chckn175g</td>\n",
       "      <td>1</td>\n",
       "      <td>3.0</td>\n",
       "      <td>YOUNG FAMILIES</td>\n",
       "      <td>Budget</td>\n",
       "    </tr>\n",
       "    <tr>\n",
       "      <th>4</th>\n",
       "      <td>2018-11-04</td>\n",
       "      <td>1</td>\n",
       "      <td>1004</td>\n",
       "      <td>5</td>\n",
       "      <td>96</td>\n",
       "      <td>WW Original Stacked Chips 160g</td>\n",
       "      <td>1</td>\n",
       "      <td>1.9</td>\n",
       "      <td>OLDER SINGLES/COUPLES</td>\n",
       "      <td>Mainstream</td>\n",
       "    </tr>\n",
       "  </tbody>\n",
       "</table>\n",
       "</div>"
      ],
      "text/plain": [
       "        DATE  STORE_NBR  LYLTY_CARD_NBR  TXN_ID  PROD_NBR  \\\n",
       "0 2018-10-19          1            1000       1         5   \n",
       "1 2018-09-18          1            1002       2        58   \n",
       "2 2019-03-09          1            1003       3        52   \n",
       "3 2019-03-10          1            1003       4       106   \n",
       "4 2018-11-04          1            1004       5        96   \n",
       "\n",
       "                                PROD_NAME  PROD_QTY  TOT_SALES  \\\n",
       "0  Natural Chip        Compny SeaSalt175g         2        6.0   \n",
       "1   Red Rock Deli Chikn&Garlic Aioli 150g         1        2.7   \n",
       "2   Grain Waves Sour    Cream&Chives 210G         1        3.6   \n",
       "3  Natural ChipCo      Hony Soy Chckn175g         1        3.0   \n",
       "4          WW Original Stacked Chips 160g         1        1.9   \n",
       "\n",
       "               LIFESTAGE PREMIUM_CUSTOMER  \n",
       "0  YOUNG SINGLES/COUPLES          Premium  \n",
       "1  YOUNG SINGLES/COUPLES       Mainstream  \n",
       "2         YOUNG FAMILIES           Budget  \n",
       "3         YOUNG FAMILIES           Budget  \n",
       "4  OLDER SINGLES/COUPLES       Mainstream  "
      ]
     },
     "execution_count": 138,
     "metadata": {},
     "output_type": "execute_result"
    }
   ],
   "source": [
    "#merge\n",
    "customer_data = pd.merge(txn_data,purch_behav_data, how='outer')\n",
    "\n",
    "#display\n",
    "customer_data.head()"
   ]
  },
  {
   "cell_type": "markdown",
   "metadata": {},
   "source": [
    "### DATA PREPARATION"
   ]
  },
  {
   "cell_type": "markdown",
   "metadata": {},
   "source": [
    "##### REMOVE PRODUCTS THAT ARE NOT CHIPS"
   ]
  },
  {
   "cell_type": "code",
   "execution_count": 139,
   "metadata": {},
   "outputs": [],
   "source": [
    "customer_data['PROD_NAME'] = customer_data['PROD_NAME'].str.lower()"
   ]
  },
  {
   "cell_type": "code",
   "execution_count": 140,
   "metadata": {},
   "outputs": [
    {
     "data": {
      "text/html": [
       "<div>\n",
       "<style scoped>\n",
       "    .dataframe tbody tr th:only-of-type {\n",
       "        vertical-align: middle;\n",
       "    }\n",
       "\n",
       "    .dataframe tbody tr th {\n",
       "        vertical-align: top;\n",
       "    }\n",
       "\n",
       "    .dataframe thead th {\n",
       "        text-align: right;\n",
       "    }\n",
       "</style>\n",
       "<table border=\"1\" class=\"dataframe\">\n",
       "  <thead>\n",
       "    <tr style=\"text-align: right;\">\n",
       "      <th></th>\n",
       "      <th>DATE</th>\n",
       "      <th>STORE_NBR</th>\n",
       "      <th>LYLTY_CARD_NBR</th>\n",
       "      <th>TXN_ID</th>\n",
       "      <th>PROD_NBR</th>\n",
       "      <th>PROD_NAME</th>\n",
       "      <th>PROD_QTY</th>\n",
       "      <th>TOT_SALES</th>\n",
       "      <th>LIFESTAGE</th>\n",
       "      <th>PREMIUM_CUSTOMER</th>\n",
       "    </tr>\n",
       "  </thead>\n",
       "  <tbody>\n",
       "    <tr>\n",
       "      <th>264813</th>\n",
       "      <td>2018-12-01</td>\n",
       "      <td>77</td>\n",
       "      <td>2330251</td>\n",
       "      <td>236747</td>\n",
       "      <td>14</td>\n",
       "      <td>smiths crnkle chip  orgnl big bag 380g</td>\n",
       "      <td>2</td>\n",
       "      <td>11.8</td>\n",
       "      <td>RETIREES</td>\n",
       "      <td>Budget</td>\n",
       "    </tr>\n",
       "    <tr>\n",
       "      <th>264817</th>\n",
       "      <td>2019-06-20</td>\n",
       "      <td>77</td>\n",
       "      <td>2330291</td>\n",
       "      <td>236754</td>\n",
       "      <td>83</td>\n",
       "      <td>ww d/style chip     sea salt 200g</td>\n",
       "      <td>1</td>\n",
       "      <td>1.9</td>\n",
       "      <td>OLDER SINGLES/COUPLES</td>\n",
       "      <td>Mainstream</td>\n",
       "    </tr>\n",
       "    <tr>\n",
       "      <th>264818</th>\n",
       "      <td>2018-11-11</td>\n",
       "      <td>77</td>\n",
       "      <td>2330311</td>\n",
       "      <td>236755</td>\n",
       "      <td>90</td>\n",
       "      <td>tostitos smoked     chipotle 175g</td>\n",
       "      <td>1</td>\n",
       "      <td>4.4</td>\n",
       "      <td>YOUNG SINGLES/COUPLES</td>\n",
       "      <td>Budget</td>\n",
       "    </tr>\n",
       "    <tr>\n",
       "      <th>264827</th>\n",
       "      <td>2018-12-19</td>\n",
       "      <td>88</td>\n",
       "      <td>2370581</td>\n",
       "      <td>240317</td>\n",
       "      <td>93</td>\n",
       "      <td>doritos corn chip southern chicken 150g</td>\n",
       "      <td>2</td>\n",
       "      <td>7.8</td>\n",
       "      <td>OLDER SINGLES/COUPLES</td>\n",
       "      <td>Budget</td>\n",
       "    </tr>\n",
       "    <tr>\n",
       "      <th>264834</th>\n",
       "      <td>2018-12-16</td>\n",
       "      <td>88</td>\n",
       "      <td>2373711</td>\n",
       "      <td>241815</td>\n",
       "      <td>16</td>\n",
       "      <td>smiths crinkle chips salt &amp; vinegar 330g</td>\n",
       "      <td>2</td>\n",
       "      <td>11.4</td>\n",
       "      <td>YOUNG SINGLES/COUPLES</td>\n",
       "      <td>Mainstream</td>\n",
       "    </tr>\n",
       "  </tbody>\n",
       "</table>\n",
       "</div>"
      ],
      "text/plain": [
       "             DATE  STORE_NBR  LYLTY_CARD_NBR  TXN_ID  PROD_NBR  \\\n",
       "264813 2018-12-01         77         2330251  236747        14   \n",
       "264817 2019-06-20         77         2330291  236754        83   \n",
       "264818 2018-11-11         77         2330311  236755        90   \n",
       "264827 2018-12-19         88         2370581  240317        93   \n",
       "264834 2018-12-16         88         2373711  241815        16   \n",
       "\n",
       "                                       PROD_NAME  PROD_QTY  TOT_SALES  \\\n",
       "264813    smiths crnkle chip  orgnl big bag 380g         2       11.8   \n",
       "264817         ww d/style chip     sea salt 200g         1        1.9   \n",
       "264818         tostitos smoked     chipotle 175g         1        4.4   \n",
       "264827   doritos corn chip southern chicken 150g         2        7.8   \n",
       "264834  smiths crinkle chips salt & vinegar 330g         2       11.4   \n",
       "\n",
       "                    LIFESTAGE PREMIUM_CUSTOMER  \n",
       "264813               RETIREES           Budget  \n",
       "264817  OLDER SINGLES/COUPLES       Mainstream  \n",
       "264818  YOUNG SINGLES/COUPLES           Budget  \n",
       "264827  OLDER SINGLES/COUPLES           Budget  \n",
       "264834  YOUNG SINGLES/COUPLES       Mainstream  "
      ]
     },
     "execution_count": 140,
     "metadata": {},
     "output_type": "execute_result"
    }
   ],
   "source": [
    "cust_chips_data = customer_data[customer_data['PROD_NAME'].str.contains('chip')]\n",
    "cust_chips_data.tail()"
   ]
  },
  {
   "cell_type": "markdown",
   "metadata": {},
   "source": [
    "### REMOVE OUTLIERS\n",
    "\n"
   ]
  },
  {
   "cell_type": "code",
   "execution_count": 148,
   "metadata": {},
   "outputs": [
    {
     "data": {
      "text/plain": [
       "(74422, 12)"
      ]
     },
     "execution_count": 148,
     "metadata": {},
     "output_type": "execute_result"
    }
   ],
   "source": [
    "#FILTER DATA\n",
    "\n",
    "cust_chips_data = cust_chips_data[(cust_chips_data['TOT_SALES']>= lower_bound) & (cust_chips_data['TOT_SALES'] <= upper_bound)]\n",
    "\n",
    "cust_chips_data.shape"
   ]
  },
  {
   "cell_type": "markdown",
   "metadata": {},
   "source": [
    "### FEATURE ENGINEERING"
   ]
  },
  {
   "cell_type": "markdown",
   "metadata": {},
   "source": [
    "#### CREATE NEW COLUMN TO STORE CHIP SIZE"
   ]
  },
  {
   "cell_type": "code",
   "execution_count": 149,
   "metadata": {},
   "outputs": [
    {
     "data": {
      "text/html": [
       "<div>\n",
       "<style scoped>\n",
       "    .dataframe tbody tr th:only-of-type {\n",
       "        vertical-align: middle;\n",
       "    }\n",
       "\n",
       "    .dataframe tbody tr th {\n",
       "        vertical-align: top;\n",
       "    }\n",
       "\n",
       "    .dataframe thead th {\n",
       "        text-align: right;\n",
       "    }\n",
       "</style>\n",
       "<table border=\"1\" class=\"dataframe\">\n",
       "  <thead>\n",
       "    <tr style=\"text-align: right;\">\n",
       "      <th></th>\n",
       "      <th>DATE</th>\n",
       "      <th>STORE_NBR</th>\n",
       "      <th>LYLTY_CARD_NBR</th>\n",
       "      <th>TXN_ID</th>\n",
       "      <th>PROD_NBR</th>\n",
       "      <th>PROD_NAME</th>\n",
       "      <th>PROD_QTY</th>\n",
       "      <th>TOT_SALES</th>\n",
       "      <th>LIFESTAGE</th>\n",
       "      <th>PREMIUM_CUSTOMER</th>\n",
       "      <th>CHIP_SIZE(g)</th>\n",
       "      <th>CHIP_BRAND</th>\n",
       "    </tr>\n",
       "  </thead>\n",
       "  <tbody>\n",
       "    <tr>\n",
       "      <th>0</th>\n",
       "      <td>2018-10-19</td>\n",
       "      <td>1</td>\n",
       "      <td>1000</td>\n",
       "      <td>1</td>\n",
       "      <td>5</td>\n",
       "      <td>natural chip        compny seasalt175g</td>\n",
       "      <td>2</td>\n",
       "      <td>6.0</td>\n",
       "      <td>YOUNG SINGLES/COUPLES</td>\n",
       "      <td>Premium</td>\n",
       "      <td>175</td>\n",
       "      <td>natural         compny seasalt</td>\n",
       "    </tr>\n",
       "    <tr>\n",
       "      <th>3</th>\n",
       "      <td>2019-03-10</td>\n",
       "      <td>1</td>\n",
       "      <td>1003</td>\n",
       "      <td>4</td>\n",
       "      <td>106</td>\n",
       "      <td>natural chipco      hony soy chckn175g</td>\n",
       "      <td>1</td>\n",
       "      <td>3.0</td>\n",
       "      <td>YOUNG FAMILIES</td>\n",
       "      <td>Budget</td>\n",
       "      <td>175</td>\n",
       "      <td>natural chipco      hony soy chckn</td>\n",
       "    </tr>\n",
       "    <tr>\n",
       "      <th>4</th>\n",
       "      <td>2018-11-04</td>\n",
       "      <td>1</td>\n",
       "      <td>1004</td>\n",
       "      <td>5</td>\n",
       "      <td>96</td>\n",
       "      <td>ww original stacked chips 160g</td>\n",
       "      <td>1</td>\n",
       "      <td>1.9</td>\n",
       "      <td>OLDER SINGLES/COUPLES</td>\n",
       "      <td>Mainstream</td>\n",
       "      <td>160</td>\n",
       "      <td>ww original stacked chips</td>\n",
       "    </tr>\n",
       "    <tr>\n",
       "      <th>14</th>\n",
       "      <td>2018-12-21</td>\n",
       "      <td>1</td>\n",
       "      <td>1011</td>\n",
       "      <td>15</td>\n",
       "      <td>1</td>\n",
       "      <td>smiths crinkle cut  chips barbecue 170g</td>\n",
       "      <td>1</td>\n",
       "      <td>2.9</td>\n",
       "      <td>OLDER SINGLES/COUPLES</td>\n",
       "      <td>Mainstream</td>\n",
       "      <td>170</td>\n",
       "      <td>smiths crinkle cut  chips barbecue</td>\n",
       "    </tr>\n",
       "    <tr>\n",
       "      <th>17</th>\n",
       "      <td>2019-03-06</td>\n",
       "      <td>1</td>\n",
       "      <td>1013</td>\n",
       "      <td>18</td>\n",
       "      <td>93</td>\n",
       "      <td>doritos corn chip southern chicken 150g</td>\n",
       "      <td>1</td>\n",
       "      <td>3.9</td>\n",
       "      <td>RETIREES</td>\n",
       "      <td>Budget</td>\n",
       "      <td>150</td>\n",
       "      <td>doritos corn  southern chicken</td>\n",
       "    </tr>\n",
       "  </tbody>\n",
       "</table>\n",
       "</div>"
      ],
      "text/plain": [
       "         DATE  STORE_NBR  LYLTY_CARD_NBR  TXN_ID  PROD_NBR  \\\n",
       "0  2018-10-19          1            1000       1         5   \n",
       "3  2019-03-10          1            1003       4       106   \n",
       "4  2018-11-04          1            1004       5        96   \n",
       "14 2018-12-21          1            1011      15         1   \n",
       "17 2019-03-06          1            1013      18        93   \n",
       "\n",
       "                                  PROD_NAME  PROD_QTY  TOT_SALES  \\\n",
       "0    natural chip        compny seasalt175g         2        6.0   \n",
       "3    natural chipco      hony soy chckn175g         1        3.0   \n",
       "4            ww original stacked chips 160g         1        1.9   \n",
       "14  smiths crinkle cut  chips barbecue 170g         1        2.9   \n",
       "17  doritos corn chip southern chicken 150g         1        3.9   \n",
       "\n",
       "                LIFESTAGE PREMIUM_CUSTOMER CHIP_SIZE(g)  \\\n",
       "0   YOUNG SINGLES/COUPLES          Premium          175   \n",
       "3          YOUNG FAMILIES           Budget          175   \n",
       "4   OLDER SINGLES/COUPLES       Mainstream          160   \n",
       "14  OLDER SINGLES/COUPLES       Mainstream          170   \n",
       "17               RETIREES           Budget          150   \n",
       "\n",
       "                            CHIP_BRAND  \n",
       "0       natural         compny seasalt  \n",
       "3   natural chipco      hony soy chckn  \n",
       "4            ww original stacked chips  \n",
       "14  smiths crinkle cut  chips barbecue  \n",
       "17      doritos corn  southern chicken  "
      ]
     },
     "execution_count": 149,
     "metadata": {},
     "output_type": "execute_result"
    }
   ],
   "source": [
    "cust_chips_data['CHIP_SIZE(g)']= cust_chips_data['PROD_NAME'].str.extract(r'(\\d+)')\n",
    "\n",
    "\n",
    "cust_chips_data.head()"
   ]
  },
  {
   "cell_type": "markdown",
   "metadata": {},
   "source": [
    "#### CONVERT CHIP_SIZE TO INT"
   ]
  },
  {
   "cell_type": "code",
   "execution_count": 150,
   "metadata": {},
   "outputs": [
    {
     "name": "stdout",
     "output_type": "stream",
     "text": [
      "<class 'pandas.core.frame.DataFrame'>\n",
      "Index: 74422 entries, 0 to 264834\n",
      "Data columns (total 12 columns):\n",
      " #   Column            Non-Null Count  Dtype         \n",
      "---  ------            --------------  -----         \n",
      " 0   DATE              74422 non-null  datetime64[ns]\n",
      " 1   STORE_NBR         74422 non-null  int64         \n",
      " 2   LYLTY_CARD_NBR    74422 non-null  int64         \n",
      " 3   TXN_ID            74422 non-null  int64         \n",
      " 4   PROD_NBR          74422 non-null  int64         \n",
      " 5   PROD_NAME         74422 non-null  object        \n",
      " 6   PROD_QTY          74422 non-null  int64         \n",
      " 7   TOT_SALES         74422 non-null  float64       \n",
      " 8   LIFESTAGE         74422 non-null  object        \n",
      " 9   PREMIUM_CUSTOMER  74422 non-null  object        \n",
      " 10  CHIP_SIZE(g)      74422 non-null  int64         \n",
      " 11  CHIP_BRAND        74422 non-null  object        \n",
      "dtypes: datetime64[ns](1), float64(1), int64(6), object(4)\n",
      "memory usage: 7.4+ MB\n"
     ]
    }
   ],
   "source": [
    "cust_chips_data['CHIP_SIZE(g)'] = cust_chips_data['CHIP_SIZE(g)'].astype(int)\n",
    "cust_chips_data.info()"
   ]
  },
  {
   "cell_type": "markdown",
   "metadata": {},
   "source": [
    "#### EXTRACT CHIP BRAND NAME\n",
    "\n"
   ]
  },
  {
   "cell_type": "code",
   "execution_count": 151,
   "metadata": {},
   "outputs": [
    {
     "data": {
      "text/html": [
       "<div>\n",
       "<style scoped>\n",
       "    .dataframe tbody tr th:only-of-type {\n",
       "        vertical-align: middle;\n",
       "    }\n",
       "\n",
       "    .dataframe tbody tr th {\n",
       "        vertical-align: top;\n",
       "    }\n",
       "\n",
       "    .dataframe thead th {\n",
       "        text-align: right;\n",
       "    }\n",
       "</style>\n",
       "<table border=\"1\" class=\"dataframe\">\n",
       "  <thead>\n",
       "    <tr style=\"text-align: right;\">\n",
       "      <th></th>\n",
       "      <th>DATE</th>\n",
       "      <th>STORE_NBR</th>\n",
       "      <th>LYLTY_CARD_NBR</th>\n",
       "      <th>TXN_ID</th>\n",
       "      <th>PROD_NBR</th>\n",
       "      <th>PROD_NAME</th>\n",
       "      <th>PROD_QTY</th>\n",
       "      <th>TOT_SALES</th>\n",
       "      <th>LIFESTAGE</th>\n",
       "      <th>PREMIUM_CUSTOMER</th>\n",
       "      <th>CHIP_SIZE(g)</th>\n",
       "      <th>CHIP_BRAND</th>\n",
       "    </tr>\n",
       "  </thead>\n",
       "  <tbody>\n",
       "    <tr>\n",
       "      <th>0</th>\n",
       "      <td>2018-10-19</td>\n",
       "      <td>1</td>\n",
       "      <td>1000</td>\n",
       "      <td>1</td>\n",
       "      <td>5</td>\n",
       "      <td>natural chip        compny seasalt175g</td>\n",
       "      <td>2</td>\n",
       "      <td>6.0</td>\n",
       "      <td>YOUNG SINGLES/COUPLES</td>\n",
       "      <td>Premium</td>\n",
       "      <td>175</td>\n",
       "      <td>natural         compny seasalt</td>\n",
       "    </tr>\n",
       "    <tr>\n",
       "      <th>3</th>\n",
       "      <td>2019-03-10</td>\n",
       "      <td>1</td>\n",
       "      <td>1003</td>\n",
       "      <td>4</td>\n",
       "      <td>106</td>\n",
       "      <td>natural chipco      hony soy chckn175g</td>\n",
       "      <td>1</td>\n",
       "      <td>3.0</td>\n",
       "      <td>YOUNG FAMILIES</td>\n",
       "      <td>Budget</td>\n",
       "      <td>175</td>\n",
       "      <td>natural chipco      hony soy chckn</td>\n",
       "    </tr>\n",
       "    <tr>\n",
       "      <th>4</th>\n",
       "      <td>2018-11-04</td>\n",
       "      <td>1</td>\n",
       "      <td>1004</td>\n",
       "      <td>5</td>\n",
       "      <td>96</td>\n",
       "      <td>ww original stacked chips 160g</td>\n",
       "      <td>1</td>\n",
       "      <td>1.9</td>\n",
       "      <td>OLDER SINGLES/COUPLES</td>\n",
       "      <td>Mainstream</td>\n",
       "      <td>160</td>\n",
       "      <td>ww original stacked chips</td>\n",
       "    </tr>\n",
       "    <tr>\n",
       "      <th>14</th>\n",
       "      <td>2018-12-21</td>\n",
       "      <td>1</td>\n",
       "      <td>1011</td>\n",
       "      <td>15</td>\n",
       "      <td>1</td>\n",
       "      <td>smiths crinkle cut  chips barbecue 170g</td>\n",
       "      <td>1</td>\n",
       "      <td>2.9</td>\n",
       "      <td>OLDER SINGLES/COUPLES</td>\n",
       "      <td>Mainstream</td>\n",
       "      <td>170</td>\n",
       "      <td>smiths crinkle cut  chips barbecue</td>\n",
       "    </tr>\n",
       "    <tr>\n",
       "      <th>17</th>\n",
       "      <td>2019-03-06</td>\n",
       "      <td>1</td>\n",
       "      <td>1013</td>\n",
       "      <td>18</td>\n",
       "      <td>93</td>\n",
       "      <td>doritos corn chip southern chicken 150g</td>\n",
       "      <td>1</td>\n",
       "      <td>3.9</td>\n",
       "      <td>RETIREES</td>\n",
       "      <td>Budget</td>\n",
       "      <td>150</td>\n",
       "      <td>doritos corn  southern chicken</td>\n",
       "    </tr>\n",
       "  </tbody>\n",
       "</table>\n",
       "</div>"
      ],
      "text/plain": [
       "         DATE  STORE_NBR  LYLTY_CARD_NBR  TXN_ID  PROD_NBR  \\\n",
       "0  2018-10-19          1            1000       1         5   \n",
       "3  2019-03-10          1            1003       4       106   \n",
       "4  2018-11-04          1            1004       5        96   \n",
       "14 2018-12-21          1            1011      15         1   \n",
       "17 2019-03-06          1            1013      18        93   \n",
       "\n",
       "                                  PROD_NAME  PROD_QTY  TOT_SALES  \\\n",
       "0    natural chip        compny seasalt175g         2        6.0   \n",
       "3    natural chipco      hony soy chckn175g         1        3.0   \n",
       "4            ww original stacked chips 160g         1        1.9   \n",
       "14  smiths crinkle cut  chips barbecue 170g         1        2.9   \n",
       "17  doritos corn chip southern chicken 150g         1        3.9   \n",
       "\n",
       "                LIFESTAGE PREMIUM_CUSTOMER  CHIP_SIZE(g)  \\\n",
       "0   YOUNG SINGLES/COUPLES          Premium           175   \n",
       "3          YOUNG FAMILIES           Budget           175   \n",
       "4   OLDER SINGLES/COUPLES       Mainstream           160   \n",
       "14  OLDER SINGLES/COUPLES       Mainstream           170   \n",
       "17               RETIREES           Budget           150   \n",
       "\n",
       "                            CHIP_BRAND  \n",
       "0       natural         compny seasalt  \n",
       "3   natural chipco      hony soy chckn  \n",
       "4            ww original stacked chips  \n",
       "14  smiths crinkle cut  chips barbecue  \n",
       "17      doritos corn  southern chicken  "
      ]
     },
     "execution_count": 151,
     "metadata": {},
     "output_type": "execute_result"
    }
   ],
   "source": [
    "#extract everything but 'chip' string and chip size '100g'\n",
    "\n",
    "cust_chips_data['CHIP_BRAND'] = cust_chips_data['PROD_NAME'].str.replace(r'\\bchip\\b|\\d+[a-z]?','' ,regex=True).str.strip()\n",
    "cust_chips_data.head()"
   ]
  },
  {
   "cell_type": "markdown",
   "metadata": {},
   "source": [
    "###  ANALYSIS "
   ]
  },
  {
   "cell_type": "markdown",
   "metadata": {},
   "source": [
    "##### The aim of this analysis is to understand customer chip purchasing behavior."
   ]
  },
  {
   "cell_type": "markdown",
   "metadata": {},
   "source": [
    "#### CUSTOMER SEGMENT - DEMOGRAPHIC SEGMENTATION"
   ]
  },
  {
   "cell_type": "markdown",
   "metadata": {},
   "source": [
    "#### YEARLY ANALYSIS"
   ]
  },
  {
   "cell_type": "markdown",
   "metadata": {},
   "source": [
    "1. What are the top 3 highest selling chip brands by total sales across our lifestage groups over the last year?\n"
   ]
  },
  {
   "cell_type": "code",
   "execution_count": null,
   "metadata": {},
   "outputs": [
    {
     "data": {
      "text/html": [
       "<div>\n",
       "<style scoped>\n",
       "    .dataframe tbody tr th:only-of-type {\n",
       "        vertical-align: middle;\n",
       "    }\n",
       "\n",
       "    .dataframe tbody tr th {\n",
       "        vertical-align: top;\n",
       "    }\n",
       "\n",
       "    .dataframe thead th {\n",
       "        text-align: right;\n",
       "    }\n",
       "</style>\n",
       "<table border=\"1\" class=\"dataframe\">\n",
       "  <thead>\n",
       "    <tr style=\"text-align: right;\">\n",
       "      <th></th>\n",
       "      <th>LIFESTAGE</th>\n",
       "      <th>CHIP_BRAND</th>\n",
       "      <th>highest_sales</th>\n",
       "    </tr>\n",
       "  </thead>\n",
       "  <tbody>\n",
       "    <tr>\n",
       "      <th>219</th>\n",
       "      <td>YOUNG SINGLES/COUPLES</td>\n",
       "      <td>smiths crnkle   orgnl big bag</td>\n",
       "      <td>2584.2</td>\n",
       "    </tr>\n",
       "    <tr>\n",
       "      <th>214</th>\n",
       "      <td>YOUNG SINGLES/COUPLES</td>\n",
       "      <td>smiths crinkle chips salt &amp; vinegar</td>\n",
       "      <td>2337.0</td>\n",
       "    </tr>\n",
       "    <tr>\n",
       "      <th>205</th>\n",
       "      <td>YOUNG SINGLES/COUPLES</td>\n",
       "      <td>doritos corn chips  original</td>\n",
       "      <td>2050.4</td>\n",
       "    </tr>\n",
       "    <tr>\n",
       "      <th>181</th>\n",
       "      <td>YOUNG FAMILIES</td>\n",
       "      <td>smiths crinkle chips salt &amp; vinegar</td>\n",
       "      <td>2941.2</td>\n",
       "    </tr>\n",
       "    <tr>\n",
       "      <th>186</th>\n",
       "      <td>YOUNG FAMILIES</td>\n",
       "      <td>smiths crnkle   orgnl big bag</td>\n",
       "      <td>2719.9</td>\n",
       "    </tr>\n",
       "    <tr>\n",
       "      <th>192</th>\n",
       "      <td>YOUNG FAMILIES</td>\n",
       "      <td>tostitos smoked     chipotle</td>\n",
       "      <td>2345.2</td>\n",
       "    </tr>\n",
       "    <tr>\n",
       "      <th>153</th>\n",
       "      <td>RETIREES</td>\n",
       "      <td>smiths crnkle   orgnl big bag</td>\n",
       "      <td>3457.4</td>\n",
       "    </tr>\n",
       "    <tr>\n",
       "      <th>148</th>\n",
       "      <td>RETIREES</td>\n",
       "      <td>smiths crinkle chips salt &amp; vinegar</td>\n",
       "      <td>3402.9</td>\n",
       "    </tr>\n",
       "    <tr>\n",
       "      <th>138</th>\n",
       "      <td>RETIREES</td>\n",
       "      <td>doritos corn chips  nacho cheese</td>\n",
       "      <td>2648.8</td>\n",
       "    </tr>\n",
       "    <tr>\n",
       "      <th>120</th>\n",
       "      <td>OLDER SINGLES/COUPLES</td>\n",
       "      <td>smiths crnkle   orgnl big bag</td>\n",
       "      <td>3557.7</td>\n",
       "    </tr>\n",
       "    <tr>\n",
       "      <th>115</th>\n",
       "      <td>OLDER SINGLES/COUPLES</td>\n",
       "      <td>smiths crinkle chips salt &amp; vinegar</td>\n",
       "      <td>3516.9</td>\n",
       "    </tr>\n",
       "    <tr>\n",
       "      <th>126</th>\n",
       "      <td>OLDER SINGLES/COUPLES</td>\n",
       "      <td>tostitos smoked     chipotle</td>\n",
       "      <td>2886.4</td>\n",
       "    </tr>\n",
       "    <tr>\n",
       "      <th>82</th>\n",
       "      <td>OLDER FAMILIES</td>\n",
       "      <td>smiths crinkle chips salt &amp; vinegar</td>\n",
       "      <td>3334.5</td>\n",
       "    </tr>\n",
       "    <tr>\n",
       "      <th>87</th>\n",
       "      <td>OLDER FAMILIES</td>\n",
       "      <td>smiths crnkle   orgnl big bag</td>\n",
       "      <td>3062.1</td>\n",
       "    </tr>\n",
       "    <tr>\n",
       "      <th>71</th>\n",
       "      <td>OLDER FAMILIES</td>\n",
       "      <td>doritos corn chips  cheese supreme</td>\n",
       "      <td>2371.6</td>\n",
       "    </tr>\n",
       "    <tr>\n",
       "      <th>54</th>\n",
       "      <td>NEW FAMILIES</td>\n",
       "      <td>smiths crnkle   orgnl big bag</td>\n",
       "      <td>525.1</td>\n",
       "    </tr>\n",
       "    <tr>\n",
       "      <th>40</th>\n",
       "      <td>NEW FAMILIES</td>\n",
       "      <td>doritos corn chips  original</td>\n",
       "      <td>453.2</td>\n",
       "    </tr>\n",
       "    <tr>\n",
       "      <th>38</th>\n",
       "      <td>NEW FAMILIES</td>\n",
       "      <td>doritos corn chips  cheese supreme</td>\n",
       "      <td>431.2</td>\n",
       "    </tr>\n",
       "    <tr>\n",
       "      <th>21</th>\n",
       "      <td>MIDAGE SINGLES/COUPLES</td>\n",
       "      <td>smiths crnkle   orgnl big bag</td>\n",
       "      <td>1823.1</td>\n",
       "    </tr>\n",
       "    <tr>\n",
       "      <th>16</th>\n",
       "      <td>MIDAGE SINGLES/COUPLES</td>\n",
       "      <td>smiths crinkle chips salt &amp; vinegar</td>\n",
       "      <td>1670.1</td>\n",
       "    </tr>\n",
       "    <tr>\n",
       "      <th>27</th>\n",
       "      <td>MIDAGE SINGLES/COUPLES</td>\n",
       "      <td>tostitos smoked     chipotle</td>\n",
       "      <td>1412.4</td>\n",
       "    </tr>\n",
       "  </tbody>\n",
       "</table>\n",
       "</div>"
      ],
      "text/plain": [
       "                  LIFESTAGE                           CHIP_BRAND  \\\n",
       "219   YOUNG SINGLES/COUPLES        smiths crnkle   orgnl big bag   \n",
       "214   YOUNG SINGLES/COUPLES  smiths crinkle chips salt & vinegar   \n",
       "205   YOUNG SINGLES/COUPLES         doritos corn chips  original   \n",
       "181          YOUNG FAMILIES  smiths crinkle chips salt & vinegar   \n",
       "186          YOUNG FAMILIES        smiths crnkle   orgnl big bag   \n",
       "192          YOUNG FAMILIES         tostitos smoked     chipotle   \n",
       "153                RETIREES        smiths crnkle   orgnl big bag   \n",
       "148                RETIREES  smiths crinkle chips salt & vinegar   \n",
       "138                RETIREES     doritos corn chips  nacho cheese   \n",
       "120   OLDER SINGLES/COUPLES        smiths crnkle   orgnl big bag   \n",
       "115   OLDER SINGLES/COUPLES  smiths crinkle chips salt & vinegar   \n",
       "126   OLDER SINGLES/COUPLES         tostitos smoked     chipotle   \n",
       "82           OLDER FAMILIES  smiths crinkle chips salt & vinegar   \n",
       "87           OLDER FAMILIES        smiths crnkle   orgnl big bag   \n",
       "71           OLDER FAMILIES   doritos corn chips  cheese supreme   \n",
       "54             NEW FAMILIES        smiths crnkle   orgnl big bag   \n",
       "40             NEW FAMILIES         doritos corn chips  original   \n",
       "38             NEW FAMILIES   doritos corn chips  cheese supreme   \n",
       "21   MIDAGE SINGLES/COUPLES        smiths crnkle   orgnl big bag   \n",
       "16   MIDAGE SINGLES/COUPLES  smiths crinkle chips salt & vinegar   \n",
       "27   MIDAGE SINGLES/COUPLES         tostitos smoked     chipotle   \n",
       "\n",
       "     highest_sales  \n",
       "219         2584.2  \n",
       "214         2337.0  \n",
       "205         2050.4  \n",
       "181         2941.2  \n",
       "186         2719.9  \n",
       "192         2345.2  \n",
       "153         3457.4  \n",
       "148         3402.9  \n",
       "138         2648.8  \n",
       "120         3557.7  \n",
       "115         3516.9  \n",
       "126         2886.4  \n",
       "82          3334.5  \n",
       "87          3062.1  \n",
       "71          2371.6  \n",
       "54           525.1  \n",
       "40           453.2  \n",
       "38           431.2  \n",
       "21          1823.1  \n",
       "16          1670.1  \n",
       "27          1412.4  "
      ]
     },
     "execution_count": 188,
     "metadata": {},
     "output_type": "execute_result"
    }
   ],
   "source": [
    "cust_chips_cs1= cust_chips_data[cust_chips_data['DATE'].dt.year == 2019]\n",
    "\n",
    "#highest total sales- grouped by lifestage\n",
    "cs1 = cust_chips_cs1.groupby(['LIFESTAGE','CHIP_BRAND']).agg( \n",
    "    highest_sales=pd.NamedAgg(column='TOT_SALES',aggfunc=\"sum\")).reset_index(\n",
    "        \n",
    "    ).sort_values(['LIFESTAGE','highest_sales'],ascending=False).groupby('LIFESTAGE', group_keys=False).head(3)\n",
    "cs1\n"
   ]
  },
  {
   "cell_type": "markdown",
   "metadata": {},
   "source": [
    "### VIZUALIZATION"
   ]
  },
  {
   "cell_type": "code",
   "execution_count": 263,
   "metadata": {},
   "outputs": [
    {
     "data": {
      "image/png": "[encoded data removed]",
      "text/plain": [
       "<Figure size 1400x700 with 1 Axes>"
      ]
     },
     "metadata": {},
     "output_type": "display_data"
    }
   ],
   "source": [
    "sns.set_style(\"whitegrid\",{'axes.grid': False}) #remove grid lines for clear background\n",
    "\n",
    "cs1_pivot = cs1.pivot(index='LIFESTAGE',columns='CHIP_BRAND', values='highest_sales')\n",
    "\n",
    "#set custom colors\n",
    "custom_blues = LinearSegmentedColormap.from_list(\"custom_blues\", [\n",
    "    \"#d6d6d6\",  # Light Grey (instead of White)\n",
    "    \"#c0d8e0\",  # Pale Blue-Grey\n",
    "    \"#a6cee3\",  # Light Blue\n",
    "    \"#6baed6\",  # Medium Light Blue\n",
    "    \"#3182bd\",  # Medium Blue\n",
    "    \"#08519c\"   # Dark Blue\n",
    "], N=256)\n",
    "\n",
    "#plot setting\n",
    "ax = cs1_pivot.plot(kind='bar',stacked=True, figsize=(14,7),cmap=custom_blues)\n",
    "\n",
    "#titles and legends settings\n",
    "ax.spines['top'].set_visible(False)\n",
    "ax.spines['right'].set_visible(False)\n",
    "\n",
    "plt.legend(bbox_to_anchor=(1,1),frameon=False)\n",
    "\n",
    "#xticks\n",
    "plt.xticks(rotation=45)\n",
    "\n",
    "plt.show()"
   ]
  },
  {
   "cell_type": "markdown",
   "metadata": {},
   "source": [
    "2. What are the 5 stores had the highest sale of chips in the last year?\n",
    "\n",
    "\n"
   ]
  },
  {
   "cell_type": "code",
   "execution_count": 261,
   "metadata": {},
   "outputs": [
    {
     "name": "stdout",
     "output_type": "stream",
     "text": [
      "       Store Number    Total Sales for 2019\n",
      "---  --------------  ----------------------\n",
      "159             165                  2182.7\n",
      "217             226                  2060.5\n",
      " 83              88                  1999.5\n",
      " 37              40                  1922.4\n",
      "228             237                  1900.6\n"
     ]
    }
   ],
   "source": [
    "#filter data for 2019\n",
    "cs2_data = cust_chips_data[cust_chips_data['DATE'].dt.year == 2019]\n",
    "\n",
    "#aggregate cs2_data\n",
    "cs2_data_plot = cs2_data.groupby('STORE_NBR').agg(\n",
    "    store_sales=pd.NamedAgg('TOT_SALES', aggfunc='sum')\n",
    ").reset_index().sort_values(by='store_sales',ascending=False).head()\n",
    "#set style for clean viz\n",
    "sns.set_style(\"whitegrid\",{\"axes.grid\":False})\n",
    "\n",
    "#create plot\n",
    "table = tabulate(cs2_data_plot, headers=['Store Number', 'Total Sales for 2019'], tablefmt='pretty_fmt')\n",
    "print(table)"
   ]
  },
  {
   "cell_type": "markdown",
   "metadata": {},
   "source": [
    "### VIZUALIZATION\n",
    "\n"
   ]
  },
  {
   "cell_type": "code",
   "execution_count": null,
   "metadata": {},
   "outputs": [
    {
     "data": {
      "image/png": "[encoded data removed]",
      "text/plain": [
       "<Figure size 640x480 with 1 Axes>"
      ]
     },
     "metadata": {},
     "output_type": "display_data"
    }
   ],
   "source": [
    "sns.set_style(\"whitegrid\",{\"axes.grid\":False})\n",
    "\n",
    "#create plot\n",
    "ax =sns.barplot(data=cs2_data_plot,x='STORE_NBR',y='store_sales')\n",
    "\n",
    "ax.spines['top'].set_visible(False)\n",
    "ax.spines['right'].set_visible(False)"
   ]
  },
  {
   "cell_type": "markdown",
   "metadata": {},
   "source": [
    "#### QUARTELY ANALYSIS\n"
   ]
  },
  {
   "cell_type": "markdown",
   "metadata": {},
   "source": []
  }
 ],
 "metadata": {
  "kernelspec": {
   "display_name": "minimal_ds",
   "language": "python",
   "name": "python3"
  },
  "language_info": {
   "codemirror_mode": {
    "name": "ipython",
    "version": 3
   },
   "file_extension": ".py",
   "mimetype": "text/x-python",
   "name": "python",
   "nbconvert_exporter": "python",
   "pygments_lexer": "ipython3",
   "version": "3.13.2"
  }
 },
 "nbformat": 4,
 "nbformat_minor": 2
}
